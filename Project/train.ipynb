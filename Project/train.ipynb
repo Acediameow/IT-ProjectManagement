{
 "cells": [
  {
   "cell_type": "code",
   "execution_count": 1,
   "metadata": {},
   "outputs": [],
   "source": [
    "import jieba\n",
    "import jieba.analyse\n",
    "import re\n",
    "import pandas as pd\n",
    "from gensim.models import word2vec\n",
    "import numpy as np\n",
    "from sklearn.decomposition import PCA\n",
    "from sklearn.ensemble import RandomForestClassifier as RF\n",
    "import matplotlib.pyplot as plt\n",
    "from sklearn.metrics import roc_curve,auc\n",
    "from sklearn.model_selection import train_test_split\n",
    "import re\n",
    "import sys"
   ]
  },
  {
   "cell_type": "code",
   "execution_count": 2,
   "metadata": {},
   "outputs": [],
   "source": [
    "#导入数据并处理\n",
    "def chuli(data):   \n",
    "    data=[str(x) for x in data]\n",
    "    #去掉特定字符\n",
    "    for i in range(len(data)):\n",
    "        try:\n",
    "            data[i]=re.sub(r'#(.*?)#','',data[i])\n",
    "            data[i]=re.sub(r'//@(.*?):','',data[i]) \n",
    "            #去除特殊符号\n",
    "            r='[’!\"#$%&\\'()*+,-./:;<=>?@[\\\\]^_`{|}~]+'\n",
    "            data[i]=re.sub(r,'',data[i])\n",
    "            data[i]=re.sub(r'网页链接','',data[i])\n",
    "            data[i]=re.sub(r'【(.*?)】','',data[i])\n",
    "        except KeyError:\n",
    "            pass\n",
    "    return data\n"
   ]
  },
  {
   "cell_type": "code",
   "execution_count": 3,
   "metadata": {},
   "outputs": [],
   "source": [
    "def get_word_train(filename):\n",
    "    with open(filename,'w',encoding='utf-8') as f:\n",
    "        for line in data['3']:\n",
    "            word_l = ' '.join(jieba.cut(line,cut_all=False))\n",
    "            word_l.replace(u'，',u'').replace(u'。',u'').replace(u'；',u'').replace(u'！',u'').replace(u'~',u'').replace(u'【',u'').replace(u'】',u'').replace(u'.',u'').replace(u'-',u'')\n",
    "            f.write(word_l)\n",
    "            f.write(u'\\n')\n",
    "        f.close()\n"
   ]
  },
  {
   "cell_type": "code",
   "execution_count": 4,
   "metadata": {},
   "outputs": [],
   "source": [
    "def stopw(file):\n",
    "    stopword = []\n",
    "    with open(file1,'r',encoding='utf-8') as text:\n",
    "        s = re.split(u'\\n',text.read())\n",
    "        for word in s:\n",
    "            stopword.append(word)\n",
    "    return stopword"
   ]
  },
  {
   "cell_type": "code",
   "execution_count": 25,
   "metadata": {},
   "outputs": [],
   "source": [
    "def getvec(sent):\n",
    "    senvec = []\n",
    "    word_l = ' '.join(jieba.cut(sent,cut_all=False))\n",
    "    #word_l = jieba.analyse.extract_tags(word_l, topK = 50, withWeight = False,allowPOS=('a','e','n','nr','ns', 'v'))\n",
    "    for word in word_l:\n",
    "        if word in stopword:\n",
    "            continue\n",
    "        else:\n",
    "            try:\n",
    "                senvec.append(model[word])\n",
    "            except:\n",
    "                pass            \n",
    "    return np.array(senvec,dtype='float')\n",
    "\n",
    "\n",
    "def build_vec(data):\n",
    "    Input = []\n",
    "    for line in data:\n",
    "        vec = getvec(line)\n",
    "        if len(vec)!=0:\n",
    "            res = sum(vec)/len(vec)\n",
    "            Input.append(res)\n",
    "    return Input\n",
    "\n",
    "def get_train(data):\n",
    "    pos = build_vec(data[data['6']==1]['3'])\n",
    "    neg = build_vec(data[data['6']==0]['3'])\n",
    "    y = np.concatenate((np.ones(len(pos)),np.zeros(len(neg))))\n",
    "    X = pos[:]\n",
    "    for i in neg:\n",
    "        X.append(i)\n",
    "    return X,y"
   ]
  },
  {
   "cell_type": "code",
   "execution_count": 26,
   "metadata": {},
   "outputs": [
    {
     "name": "stderr",
     "output_type": "stream",
     "text": [
      "E:\\al\\AL-new\\lib\\site-packages\\ipykernel_launcher.py:10: DeprecationWarning: Call to deprecated `most_similar` (Method will be removed in 4.0.0, use self.wv.most_similar() instead).\n",
      "  # Remove the CWD from sys.path while we load stuff.\n",
      "E:\\al\\AL-new\\lib\\site-packages\\ipykernel_launcher.py:10: DeprecationWarning: Call to deprecated `__getitem__` (Method will be removed in 4.0.0, use self.wv.__getitem__() instead).\n",
      "  # Remove the CWD from sys.path while we load stuff.\n"
     ]
    },
    {
     "data": {
      "image/png": "[encoded data removed]",
      "text/plain": [
       "<Figure size 432x288 with 1 Axes>"
      ]
     },
     "metadata": {
      "needs_background": "light"
     },
     "output_type": "display_data"
    }
   ],
   "source": [
    "if __name__ == '__main__':\n",
    "    data = pd.read_csv('datasets/data.csv',delimiter=',',header=0,encoding='utf-8')\n",
    "    data['3']=chuli(data['3'])\n",
    "    #重复值处理\n",
    "    #data['0'].value_counts().head(10)\n",
    "    #data = data.drop_duplicates(['0'])\n",
    "    file_train = 'word_train2.txt'\n",
    "    get_word_train(file_train)\n",
    "    model = word2vec.Word2Vec.load('corpus.model')\n",
    "    indexes = model.most_similar('疫情',topn=5)\n",
    "    file1 = 'stopwords.txt'\n",
    "    stopword = stopw(file1)\n",
    "    X,y=get_train(data)\n",
    "    pca = PCA().fit(X)\n",
    "    plt.plot(pca.explained_variance_,linewidth=2)\n",
    "    X_reduced = PCA(n_components=100).fit_transform(X)\n"
   ]
  },
  {
   "cell_type": "code",
   "execution_count": null,
   "metadata": {},
   "outputs": [],
   "source": [
    "y[:5]"
   ]
  },
  {
   "cell_type": "code",
   "execution_count": 7,
   "metadata": {},
   "outputs": [],
   "source": [
    "from sklearn.linear_model import LogisticRegression\n",
    "from sklearn.neural_network import MLPRegressor,MLPClassifier\n",
    "from sklearn.neighbors import KNeighborsClassifier\n",
    "from sklearn.naive_bayes import MultinomialNB\n",
    "from sklearn.model_selection import StratifiedKFold\n",
    "from sklearn.model_selection import cross_val_score"
   ]
  },
  {
   "cell_type": "code",
   "execution_count": 27,
   "metadata": {},
   "outputs": [
    {
     "name": "stderr",
     "output_type": "stream",
     "text": [
      "E:\\al\\AL-new\\lib\\site-packages\\sklearn\\linear_model\\logistic.py:432: FutureWarning: Default solver will be changed to 'lbfgs' in 0.22. Specify a solver to silence this warning.\n",
      "  FutureWarning)\n"
     ]
    },
    {
     "name": "stdout",
     "output_type": "stream",
     "text": [
      "0.8572338055069234\n"
     ]
    }
   ],
   "source": [
    "#逻辑回归（五折）\n",
    "from sklearn.utils import shuffle\n",
    "X_reduced,y = shuffle(X_reduced,y)\n",
    "from sklearn.linear_model import LogisticRegression\n",
    "nb=LogisticRegression()\n",
    "#score=cross_val_score(nb,X_reduced,y,cv=5,scoring='accuracy')\n",
    "#score.mean()\n",
    "X_train,X_test,y_train,y_test = train_test_split(X_reduced,y,test_size=0.3)\n",
    "nb.fit(X_train,y_train)\n",
    "y_pred = nb.predict(X_test)\n",
    "joblib.dump(clf,\"nb_model_200.pkl\")\n",
    "from sklearn.metrics import f1_score\n",
    "print(f1_score(y_test, y_pred, average='binary'))\n"
   ]
  },
  {
   "cell_type": "code",
   "execution_count": 28,
   "metadata": {},
   "outputs": [
    {
     "name": "stdout",
     "output_type": "stream",
     "text": [
      "0.9053321861265493\n"
     ]
    }
   ],
   "source": [
    "#随机森林\n",
    "from sklearn.externals import joblib\n",
    "X_train,X_test,y_train,y_test = train_test_split(X_reduced,y,test_size=0.3,random_state = 5579)\n",
    "clf = RF(n_estimators=200)\n",
    "clf.fit(X_train,y_train)\n",
    "y_pred = clf.predict(X_test)\n",
    "#joblib.dump(clf,\"train_model_200.pkl\")\n",
    "from sklearn.metrics import f1_score\n",
    "print(f1_score(y_test, y_pred, average='binary'))\n"
   ]
  },
  {
   "cell_type": "code",
   "execution_count": null,
   "metadata": {},
   "outputs": [],
   "source": [
    "yyy=[]\n",
    "for i in range(len(y_pred)):\n",
    "    if y_pred[i]==0:\n",
    "        yyy.append(i)\n",
    "    else:\n",
    "        pass\n",
    "print(len(yyy))"
   ]
  },
  {
   "cell_type": "code",
   "execution_count": null,
   "metadata": {},
   "outputs": [],
   "source": []
  },
  {
   "cell_type": "code",
   "execution_count": 10,
   "metadata": {},
   "outputs": [
    {
     "name": "stderr",
     "output_type": "stream",
     "text": [
      "Using TensorFlow backend.\n"
     ]
    }
   ],
   "source": [
    "from keras import backend as K\n",
    "def f1(y_true, y_pred):\n",
    "    def recall(y_true, y_pred):\n",
    "        true_positives = K.sum(K.round(K.clip(y_true * y_pred, 0, 1)))\n",
    "        possible_positives = K.sum(K.round(K.clip(y_true, 0, 1)))\n",
    "        recall = true_positives / (possible_positives + K.epsilon())\n",
    "        return recall\n",
    "\n",
    "    def precision(y_true, y_pred):\n",
    "        true_positives = K.sum(K.round(K.clip(y_true * y_pred, 0, 1)))\n",
    "        predicted_positives = K.sum(K.round(K.clip(y_pred, 0, 1)))\n",
    "        precision = true_positives / (predicted_positives + K.epsilon())\n",
    "        return precision\n",
    "    precision = precision(y_true, y_pred)\n",
    "    recall = recall(y_true, y_pred)\n",
    "    return 2*((precision*recall)/(precision+recall+K.epsilon()))"
   ]
  },
  {
   "cell_type": "code",
   "execution_count": 29,
   "metadata": {},
   "outputs": [
    {
     "name": "stdout",
     "output_type": "stream",
     "text": [
      "Epoch 1/20\n",
      "65602/65602 [==============================] - 8s 123us/step - loss: 0.2901 - f1: 0.8232\n",
      "Epoch 2/20\n",
      "65602/65602 [==============================] - 13s 199us/step - loss: 0.2639 - f1: 0.8493\n",
      "Epoch 3/20\n",
      "65602/65602 [==============================] - 8s 120us/step - loss: 0.2533 - f1: 0.8550\n",
      "Epoch 4/20\n",
      "65602/65602 [==============================] - 14s 218us/step - loss: 0.2465 - f1: 0.8575\n",
      "Epoch 5/20\n",
      "65602/65602 [==============================] - 11s 164us/step - loss: 0.2419 - f1: 0.8584\n",
      "Epoch 6/20\n",
      "65602/65602 [==============================] - 11s 160us/step - loss: 0.2385 - f1: 0.8591\n",
      "Epoch 7/20\n",
      "65602/65602 [==============================] - 14s 206us/step - loss: 0.2358 - f1: 0.8591\n",
      "Epoch 8/20\n",
      "65602/65602 [==============================] - 8s 116us/step - loss: 0.2336 - f1: 0.8597\n",
      "Epoch 9/20\n",
      "65602/65602 [==============================] - 15s 226us/step - loss: 0.2315 - f1: 0.8610\n",
      "Epoch 10/20\n",
      "65602/65602 [==============================] - 15s 232us/step - loss: 0.2296 - f1: 0.8610\n",
      "Epoch 11/20\n",
      "65602/65602 [==============================] - 11s 170us/step - loss: 0.2279 - f1: 0.8623\n",
      "Epoch 12/20\n",
      "65602/65602 [==============================] - 12s 181us/step - loss: 0.2264 - f1: 0.8626\n",
      "Epoch 13/20\n",
      "65602/65602 [==============================] - 8s 122us/step - loss: 0.2252 - f1: 0.8628\n",
      "Epoch 14/20\n",
      "65602/65602 [==============================] - 14s 216us/step - loss: 0.2240 - f1: 0.8639\n",
      "Epoch 15/20\n",
      "65602/65602 [==============================] - 11s 166us/step - loss: 0.2230 - f1: 0.8640\n",
      "Epoch 16/20\n",
      "65602/65602 [==============================] - 11s 171us/step - loss: 0.2220 - f1: 0.8645\n",
      "Epoch 17/20\n",
      "65602/65602 [==============================] - 14s 212us/step - loss: 0.2210 - f1: 0.8653\n",
      "Epoch 18/20\n",
      "65602/65602 [==============================] - 9s 139us/step - loss: 0.2201 - f1: 0.8657\n",
      "Epoch 19/20\n",
      "65602/65602 [==============================] - 13s 204us/step - loss: 0.2191 - f1: 0.8663\n",
      "Epoch 20/20\n",
      "65602/65602 [==============================] - 13s 191us/step - loss: 0.2182 - f1: 0.8675\n",
      "28116/28116 [==============================] - 1s 33us/step\n",
      "0.8607795834541321\n"
     ]
    }
   ],
   "source": [
    "## 深度学习lstm\n",
    "from sklearn.externals import joblib\n",
    "import csv\n",
    "import numpy as np\n",
    "import matplotlib.pyplot as plt\n",
    "from sklearn.preprocessing import MinMaxScaler\n",
    "from keras.models import Sequential\n",
    "from keras.layers import Dense, LSTM\n",
    "from sklearn.metrics import mean_absolute_error\n",
    "from sklearn.metrics import mean_squared_error\n",
    "from sklearn.metrics import r2_score\n",
    "nb_time_steps=1\n",
    "X_train,X_test,y_train,y_test = train_test_split(X_reduced,y,test_size=0.3,random_state =5579)\n",
    "# 构建网络，使用的是序贯模型\n",
    "model = Sequential()\n",
    "\n",
    "#return_sequences=True返回的是全部输出，LSTM做第一层时，需要指定输入shape\n",
    "X_train=X_train.reshape(X_train.shape[0],nb_time_steps,X_train.shape[1])\n",
    "X_test=X_test.reshape(X_test.shape[0],nb_time_steps,X_test.shape[1])\n",
    "\n",
    "model.add(LSTM(units=128, input_shape=(nb_time_steps,X_train.shape[2])))\n",
    "model.add(Dense(1))\n",
    "# 进行配置\n",
    "model.compile(optimizer='adam',loss='mean_absolute_error',metrics=[f1])\n",
    "#mean_absolute_error 70.5%\n",
    "model.fit(x=X_train, y=y_train, epochs=20, batch_size=20, verbose=1)\n",
    "model.save('lstm_model_200.h5')\n",
    "yPredictes = model.predict(x=X_test)\n",
    "score,acc= model.evaluate(X_test,y_test,batch_size=20, verbose=1)\n",
    "print(acc)"
   ]
  },
  {
   "cell_type": "code",
   "execution_count": null,
   "metadata": {},
   "outputs": [],
   "source": []
  },
  {
   "cell_type": "code",
   "execution_count": null,
   "metadata": {},
   "outputs": [],
   "source": []
  }
 ],
 "metadata": {
  "kernelspec": {
   "display_name": "Python 3",
   "language": "python",
   "name": "python3"
  },
  "language_info": {
   "codemirror_mode": {
    "name": "ipython",
    "version": 3
   },
   "file_extension": ".py",
   "mimetype": "text/x-python",
   "name": "python",
   "nbconvert_exporter": "python",
   "pygments_lexer": "ipython3",
   "version": "3.7.4"
  }
 },
 "nbformat": 4,
 "nbformat_minor": 2
}
